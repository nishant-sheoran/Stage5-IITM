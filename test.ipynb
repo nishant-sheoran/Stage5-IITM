{
 "cells": [
  {
   "cell_type": "code",
   "id": "initial_id",
   "metadata": {
    "collapsed": true,
    "ExecuteTime": {
     "end_time": "2024-11-05T22:12:41.100704Z",
     "start_time": "2024-11-05T22:12:41.093923Z"
    }
   },
   "source": [
    "# instr = 0b00000000010100011001010001100011\n",
    "instr = 0b11111110010000010001100011100011\n",
    "instr = 0b11111111111111111111111111111111\n",
    "# instr = 0b11111110010000010001100001100011\n"
   ],
   "outputs": [],
   "execution_count": 46
  },
  {
   "metadata": {
    "ExecuteTime": {
     "end_time": "2024-11-05T22:14:24.292744Z",
     "start_time": "2024-11-05T22:14:24.290214Z"
    }
   },
   "cell_type": "code",
   "source": [
    "\n",
    "imm = (instr >> 31) << 12 \n",
    "imm2 = (instr >> 7 & 1) << 11 \n",
    "imm3 = (instr >> 25 & 0b111111)<< 5 \n",
    "imm4 = (instr >> 8 & 0b1111)<<1\n",
    "\n",
    "\n",
    "print(f\"{imm:032b}\")\n",
    "print(f\"{imm2:032b}\")\n",
    "print(f\"{imm3:032b}\")\n",
    "print(f\"{imm4:032b}\")\n",
    "imm = ((instr >> 31) << 12 |\n",
    "       (instr >> 7 & 1) << 11 |\n",
    "       (instr >> 25 & 0b111111)<< 5 |\n",
    "       (instr >> 8 & 0b1111)<<1)\n",
    "print(f\"{imm:032b}\")\n"
   ],
   "id": "7b6024d3633f0da2",
   "outputs": [
    {
     "name": "stdout",
     "output_type": "stream",
     "text": [
      "00000000000000000001000000000000\n",
      "00000000000000000000100000000000\n",
      "00000000000000000000011111100000\n",
      "00000000000000000000000000011110\n",
      "00000000000000000001111111111110\n"
     ]
    }
   ],
   "execution_count": 51
  },
  {
   "metadata": {
    "ExecuteTime": {
     "end_time": "2024-11-05T22:40:40.706711Z",
     "start_time": "2024-11-05T22:40:40.703941Z"
    }
   },
   "cell_type": "code",
   "source": "print(not 0)",
   "id": "b68dd0ed64ad9800",
   "outputs": [
    {
     "name": "stdout",
     "output_type": "stream",
     "text": [
      "True\n"
     ]
    }
   ],
   "execution_count": 53
  },
  {
   "metadata": {
    "ExecuteTime": {
     "end_time": "2024-11-07T15:16:21.324409Z",
     "start_time": "2024-11-07T15:16:21.320822Z"
    }
   },
   "cell_type": "code",
   "source": [
    "def xor_gate(a, b):\n",
    "    return a ^ b\n",
    "print(xor_gate(False, True))"
   ],
   "id": "bc1e43e2705ae6dc",
   "outputs": [
    {
     "name": "stdout",
     "output_type": "stream",
     "text": [
      "True\n"
     ]
    }
   ],
   "execution_count": 3
  },
  {
   "metadata": {
    "ExecuteTime": {
     "end_time": "2024-11-07T15:23:32.994167Z",
     "start_time": "2024-11-07T15:23:32.988837Z"
    }
   },
   "cell_type": "code",
   "source": [
    "def jal(instr):\n",
    "    # Immediate is in bits [31], [19:12], [20], and [30:21]\n",
    "    imm = ((instr >> 31) << 20) | (((instr >> 12) & 0xFF) << 12) | \\\n",
    "          (((instr >> 20) & 0x1) << 11) | ((instr >> 21) & 0x3FF) << 1\n",
    "    if imm & 0x100000:  # Check if sign bit (bit 20) is set\n",
    "        imm |= 0xFFE00000  # Sign extend to 32 bits\n",
    "    return imm\n",
    "print(jal(0b00000000110000000000010101101111))"
   ],
   "id": "e92901ca709a6995",
   "outputs": [
    {
     "name": "stdout",
     "output_type": "stream",
     "text": [
      "12\n"
     ]
    }
   ],
   "execution_count": 4
  },
  {
   "metadata": {},
   "cell_type": "code",
   "outputs": [],
   "execution_count": null,
   "source": "",
   "id": "c68da97e925f5281"
  }
 ],
 "metadata": {
  "kernelspec": {
   "display_name": "Python 3",
   "language": "python",
   "name": "python3"
  },
  "language_info": {
   "codemirror_mode": {
    "name": "ipython",
    "version": 2
   },
   "file_extension": ".py",
   "mimetype": "text/x-python",
   "name": "python",
   "nbconvert_exporter": "python",
   "pygments_lexer": "ipython2",
   "version": "2.7.6"
  }
 },
 "nbformat": 4,
 "nbformat_minor": 5
}
